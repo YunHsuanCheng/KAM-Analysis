{
 "cells": [
  {
   "cell_type": "code",
   "execution_count": 1,
   "id": "49c28c39",
   "metadata": {},
   "outputs": [],
   "source": [
    "import numpy as np\n",
    "import pandas as pd\n",
    "import matplotlib.pyplot as plt\n",
    "import seaborn as sns\n",
    "import matplotlib.mlab as mlab"
   ]
  },
  {
   "cell_type": "markdown",
   "id": "46ae2f67",
   "metadata": {},
   "source": [
    "#### 匯入會計、產業以及KAM檔案並做整理和merge"
   ]
  },
  {
   "cell_type": "markdown",
   "id": "e270c8ec",
   "metadata": {
    "scrolled": false
   },
   "source": [
    "Acc_path = './2020Account_0720.xlsx' #'./2020Account_0720.xlsx'\n",
    "Account = pd.read_excel(Acc_path)\n",
    "Account = pd.DataFrame(Account)\n",
    "\n",
    "Ind_path = './2020IndustryCode_0802.xlsx'  #'./2020IndustryCode_0802.xlsx'\n",
    "Industry = pd.read_excel(Ind_path)\n",
    "Industry = pd.DataFrame(Industry)\n",
    "\n",
    "KAM_path = './2020關鍵查核事項_1129.xlsx'  #'./2020ALLKAM_DF0624.xlsx'\n",
    "KAM = pd.read_excel(KAM_path)\n",
    "KAM = pd.DataFrame(KAM)"
   ]
  },
  {
   "cell_type": "code",
   "execution_count": 44,
   "id": "0bfe9d2a",
   "metadata": {},
   "outputs": [],
   "source": [
    "Acc_path = './2021Account_1201.xlsx' #'./2020Account_0720.xlsx'\n",
    "Account = pd.read_excel(Acc_path)\n",
    "Account = pd.DataFrame(Account)\n",
    "\n",
    "Ind_path = './2021IndustryCode_0829.xlsx'  #'./2020IndustryCode_0802.xlsx'\n",
    "Industry = pd.read_excel(Ind_path)\n",
    "Industry = pd.DataFrame(Industry)\n",
    "\n",
    "KAM_path = './2021關鍵查核事項_1130.xlsx'  #'./2020ALLKAM_DF0624.xlsx'\n",
    "KAM = pd.read_excel(KAM_path)\n",
    "KAM = pd.DataFrame(KAM)"
   ]
  },
  {
   "cell_type": "code",
   "execution_count": 45,
   "id": "52bf156d",
   "metadata": {
    "scrolled": true
   },
   "outputs": [
    {
     "data": {
      "text/plain": [
       "Unnamed: 0       0\n",
       "公司代碼             0\n",
       "公司名稱             0\n",
       "年度               0\n",
       "序號               0\n",
       "母公司總資產           0\n",
       "母公司淨營收           0\n",
       "合併總資產            0\n",
       "合併淨營收            0\n",
       "產業代碼             0\n",
       "產業名稱             0\n",
       "揭露類別             0\n",
       "揭露條件Y         1451\n",
       "揭露條件A         2029\n",
       "揭露條件B         1928\n",
       "自願揭露            25\n",
       "審計公費級距           0\n",
       "非審計公費級距          0\n",
       "會計師公費級距          0\n",
       "公司審計公費           0\n",
       "審計公費含子公司         0\n",
       "公司非審計公費          0\n",
       "公司非審－制度設計        0\n",
       "公司非審－工商登記        0\n",
       "事務所碼             0\n",
       "事務所名稱            0\n",
       "會計師一             0\n",
       "會計師二             0\n",
       "會計師三          1850\n",
       "會計師四          2011\n",
       "dtype: int64"
      ]
     },
     "execution_count": 45,
     "metadata": {},
     "output_type": "execute_result"
    }
   ],
   "source": [
    "#刪掉沒有會計師事務所的公司\n",
    "Account.dropna(subset=['事務所碼', '事務所名稱'],inplace = True)\n",
    "Account.isnull().sum()#for check"
   ]
  },
  {
   "cell_type": "markdown",
   "id": "45edd5d9",
   "metadata": {},
   "source": [
    "Acc_Ind = pd.merge(Industry,Account, on='公司代碼', how='inner')\n",
    "Acc_Ind = Acc_Ind.drop(columns=['Unnamed: 0_x','Unnamed: 0_y','公司名稱_y','年/月', '季別', '合併(Y/N)', '月份', '會計師三', '會計師四'])\n",
    "Acc_Ind.rename(columns={'公司名稱_x':'公司名稱'}, inplace=True)\n",
    "Acc_Ind.columns"
   ]
  },
  {
   "cell_type": "code",
   "execution_count": 46,
   "id": "ca897e76",
   "metadata": {},
   "outputs": [
    {
     "data": {
      "text/plain": [
       "Index(['公司代碼', '公司名稱', '年度', '序號', '母公司總資產', '母公司淨營收', '合併總資產', '合併淨營收',\n",
       "       '產業代碼', '產業名稱', '揭露類別', '揭露條件Y', '揭露條件A', '揭露條件B', '自願揭露', '審計公費級距',\n",
       "       '非審計公費級距', '會計師公費級距', '公司審計公費', '審計公費含子公司', '公司非審計公費', '公司非審－制度設計',\n",
       "       '公司非審－工商登記', '事務所碼', '事務所名稱', '會計師一', '會計師二', '會計師三', '會計師四', 'KAM'],\n",
       "      dtype='object')"
      ]
     },
     "execution_count": 46,
     "metadata": {},
     "output_type": "execute_result"
    }
   ],
   "source": [
    "DF = pd.merge(Account,KAM, on='公司名稱', how='inner')#(Acc_Ind,KAM, on='公司代碼', how='inner')\n",
    "DF = DF.drop(columns=['Unnamed: 0_x','Unnamed: 0_y','公司代碼_y','年月'])\n",
    "\n",
    "DF.rename(columns={'公司代碼_x':'公司代碼'}, inplace=True)\n",
    "DF.columns"
   ]
  },
  {
   "cell_type": "code",
   "execution_count": 47,
   "id": "77a52b5b",
   "metadata": {},
   "outputs": [
    {
     "data": {
      "text/html": [
       "<div>\n",
       "<style scoped>\n",
       "    .dataframe tbody tr th:only-of-type {\n",
       "        vertical-align: middle;\n",
       "    }\n",
       "\n",
       "    .dataframe tbody tr th {\n",
       "        vertical-align: top;\n",
       "    }\n",
       "\n",
       "    .dataframe thead th {\n",
       "        text-align: right;\n",
       "    }\n",
       "</style>\n",
       "<table border=\"1\" class=\"dataframe\">\n",
       "  <thead>\n",
       "    <tr style=\"text-align: right;\">\n",
       "      <th></th>\n",
       "      <th>公司名稱</th>\n",
       "    </tr>\n",
       "  </thead>\n",
       "  <tbody>\n",
       "  </tbody>\n",
       "</table>\n",
       "</div>"
      ],
      "text/plain": [
       "Empty DataFrame\n",
       "Columns: [公司名稱]\n",
       "Index: []"
      ]
     },
     "execution_count": 47,
     "metadata": {},
     "output_type": "execute_result"
    }
   ],
   "source": [
    "#檢查重複公司\n",
    "accc = DF[['公司名稱']]\n",
    "accc[accc.duplicated()]"
   ]
  },
  {
   "cell_type": "markdown",
   "id": "139b0db5",
   "metadata": {},
   "source": [
    "#### 計算資料筆數"
   ]
  },
  {
   "cell_type": "code",
   "execution_count": 48,
   "id": "a87b652f",
   "metadata": {},
   "outputs": [
    {
     "name": "stdout",
     "output_type": "stream",
     "text": [
      "Account_Ori: 2042\n",
      "IndustryCode_Ori: 2171\n",
      "KAM_Ori: 2144\n",
      "DF: 2025\n"
     ]
    }
   ],
   "source": [
    "print('Account_Ori:',len(Account))\n",
    "print('IndustryCode_Ori:',len(Industry))\n",
    "print('KAM_Ori:',len(KAM))\n",
    "print('DF:',len(DF))"
   ]
  },
  {
   "cell_type": "markdown",
   "id": "08dc00d8",
   "metadata": {},
   "source": [
    "#### 加入是否為四大會計事務所col"
   ]
  },
  {
   "cell_type": "code",
   "execution_count": 49,
   "id": "b2ae0bdf",
   "metadata": {},
   "outputs": [],
   "source": [
    "#加入判斷是否為四大會計事務所欄位\n",
    "ap = []\n",
    "af = DF[[\"事務所碼\"]]\n",
    "for (index, colname) in enumerate(af): #遍歷 enumerate\n",
    "    f = af[colname].values #遍歷方式 取a欄值\n",
    "    \n",
    "for i in range(len(f)):\n",
    "    if f[i] == 'KK152': #安侯建業聯合\n",
    "        boo = 1\n",
    "        ap.append(boo)\n",
    "    elif f[i] == 'KK158':  #安永聯合\n",
    "        boo = 1\n",
    "        ap.append(boo)\n",
    "    elif f[i] == 'KK203':  #勤業眾信聯合\n",
    "        boo = 1\n",
    "        ap.append(boo)\n",
    "    elif f[i] == 'KK149':  #資誠聯合\n",
    "        boo = 1\n",
    "        ap.append(boo)\n",
    "    else:\n",
    "        boo = 0\n",
    "        ap.append(boo)\n",
    "\n",
    "\n",
    "DF[\"是否為四大事務所\"] = ap"
   ]
  },
  {
   "cell_type": "markdown",
   "id": "f5ea0085",
   "metadata": {},
   "source": [
    "#### 加入四大會計事務所標籤col"
   ]
  },
  {
   "cell_type": "code",
   "execution_count": 51,
   "id": "5476a914",
   "metadata": {},
   "outputs": [],
   "source": [
    "#判斷四大會計事務所1-4\n",
    "ju = []\n",
    "af = DF[[\"事務所碼\"]]\n",
    "for (index, colname) in enumerate(af):\n",
    "    f = af[colname].values\n",
    "for i in range(len(f)):\n",
    "    if f[i] == 'KK149': #資誠聯合\n",
    "        boo = 1\n",
    "        ju.append(boo)\n",
    "    elif f[i] == 'KK152':  #安侯建業聯合\n",
    "        boo = 2\n",
    "        ju.append(boo)\n",
    "    elif f[i] == 'KK158':  #安永聯合\n",
    "        boo = 3\n",
    "        ju.append(boo)\n",
    "    elif f[i] == 'KK203':  #勤業眾信聯合\n",
    "        boo = 4\n",
    "        ju.append(boo)\n",
    "    else:\n",
    "        boo = 0\n",
    "        ju.append(boo)\n",
    "\n",
    "\n",
    "DF[\"四大事務所編碼\"] = ju"
   ]
  },
  {
   "cell_type": "markdown",
   "id": "2341602b",
   "metadata": {},
   "source": [
    "#### OneHotEncoder 加上產業編號"
   ]
  },
  {
   "cell_type": "markdown",
   "id": "7d99afab",
   "metadata": {},
   "source": [
    "#print(DF['交易所主產業代碼'].nunique())\n",
    "#print(DF['交易所主產業名稱'].value_counts())"
   ]
  },
  {
   "cell_type": "markdown",
   "id": "490262f3",
   "metadata": {},
   "source": [
    "from sklearn.preprocessing import LabelEncoder, OneHotEncoder\n",
    "\n",
    "le = LabelEncoder()\n",
    "DF['交易所主產業標籤'] = le.fit_transform(DF['交易所主產業代碼'])\n",
    "DF[['公司名稱', '交易所主產業代碼', '交易所主產業標籤']].sample(5)"
   ]
  },
  {
   "cell_type": "markdown",
   "id": "dbaa918d",
   "metadata": {},
   "source": [
    "#### KAM分析"
   ]
  },
  {
   "cell_type": "code",
   "execution_count": 52,
   "id": "7bc76e7a",
   "metadata": {},
   "outputs": [
    {
     "data": {
      "text/plain": [
       "Index(['公司代碼', '公司名稱', '年度', '序號', '母公司總資產', '母公司淨營收', '合併總資產', '合併淨營收',\n",
       "       '產業代碼', '產業名稱', '揭露類別', '揭露條件Y', '揭露條件A', '揭露條件B', '自願揭露', '審計公費級距',\n",
       "       '非審計公費級距', '會計師公費級距', '公司審計公費', '審計公費含子公司', '公司非審計公費', '公司非審－制度設計',\n",
       "       '公司非審－工商登記', '事務所碼', '事務所名稱', '會計師一', '會計師二', '會計師三', '會計師四', 'KAM',\n",
       "       '是否為四大事務所', '四大事務所編碼'],\n",
       "      dtype='object')"
      ]
     },
     "execution_count": 52,
     "metadata": {},
     "output_type": "execute_result"
    }
   ],
   "source": [
    "DF.columns"
   ]
  },
  {
   "cell_type": "code",
   "execution_count": 53,
   "id": "6af955e6",
   "metadata": {},
   "outputs": [],
   "source": [
    "#取出需要欄位\n",
    "KAM_df = DF[['公司代碼', '公司名稱', '事務所碼', '事務所名稱', \"是否為四大事務所\", \"四大事務所編碼\", '會計師一', '會計師二', 'KAM']]\n",
    "#'交易所主產業標籤','交易所主產業代碼', '交易所主產業名稱', '交易所子產業代碼', '交易所子產業名稱', 產業分類先拿掉"
   ]
  },
  {
   "cell_type": "markdown",
   "id": "2710c8af",
   "metadata": {},
   "source": [
    "#### KAM情感分析"
   ]
  },
  {
   "cell_type": "code",
   "execution_count": 54,
   "id": "da3f6a5d",
   "metadata": {},
   "outputs": [],
   "source": [
    "from ckiptagger import WS\n",
    "#匯入中文情感字典\n",
    "\n",
    "stl = []\n",
    "with open('ST_Litigious.txt','r',encoding=\"utf-8\") as fh:\n",
    "    tmp = fh.read()\n",
    "    onelinelist = tmp.split('\\n')\n",
    "    for i in onelinelist:\n",
    "        stl.append(i)\n",
    "\n",
    "stms = []\n",
    "with open('ST_ModalStrong.txt','r',encoding=\"utf-8\") as fh:\n",
    "    tmp = fh.read()\n",
    "    onelinelist = tmp.split('\\n')\n",
    "    for i in onelinelist:\n",
    "        stms.append(i)\n",
    "        \n",
    "stn = []\n",
    "with open('ST_Negative.txt','r',encoding=\"utf-8\") as fh:\n",
    "    tmp = fh.read()\n",
    "    onelinelist = tmp.split('\\n')\n",
    "    for i in onelinelist:\n",
    "        stn.append(i)\n",
    "        \n",
    "stmw = []\n",
    "with open('ST_ModalWeak.txt','r',encoding=\"utf-8\") as fh:\n",
    "    tmp = fh.read()\n",
    "    onelinelist = tmp.split('\\n')\n",
    "    for i in onelinelist:\n",
    "        stmw.append(i)\n",
    "        \n",
    "stp = []\n",
    "with open('ST_Positive.txt','r',encoding=\"utf-8\") as fh:\n",
    "    tmp = fh.read()\n",
    "    onelinelist = tmp.split('\\n')\n",
    "    for i in onelinelist:\n",
    "        stp.append(i)\n",
    "        \n",
    "stuc = []\n",
    "with open('ST_Uncertainty.txt','r',encoding=\"utf-8\") as fh:\n",
    "    tmp = fh.read()\n",
    "    onelinelist = tmp.split('\\n')\n",
    "    for i in onelinelist:\n",
    "        stuc.append(i)"
   ]
  },
  {
   "cell_type": "code",
   "execution_count": 55,
   "id": "56eb3cb9",
   "metadata": {},
   "outputs": [
    {
     "name": "stderr",
     "output_type": "stream",
     "text": [
      "C:\\Users\\user\\anaconda3\\lib\\site-packages\\ckiptagger\\model_ws.py:106: UserWarning: `tf.nn.rnn_cell.LSTMCell` is deprecated and will be removed in a future version. This class is equivalent as `tf.keras.layers.LSTMCell`, and will be replaced by that in Tensorflow 2.0.\n",
      "  cell = tf.compat.v1.nn.rnn_cell.LSTMCell(hidden_d, name=name)\n"
     ]
    }
   ],
   "source": [
    "#將KAM用CKIPTAGGER做斷詞並存入out list\n",
    "\n",
    "t1 =[]\n",
    "out = []\n",
    "for k in range(len(DF)):\n",
    "    #print(DF['KAM'][k])\n",
    "    t1.append(DF['KAM'][k])\n",
    "\n",
    "ws = WS(\"./data\")\n",
    "\n",
    "out = ws(t1) #以out[0]可取得第0個KAM斷詞過後的結果\n",
    "\n"
   ]
  },
  {
   "cell_type": "code",
   "execution_count": 56,
   "id": "6ebdce30",
   "metadata": {},
   "outputs": [],
   "source": [
    "cn_stops = ['：','，','、','(',')','；','.','。','!','?','\"','*','/','-','_','#','@','$','&','<','>','=','[',']','＼','^',\n",
    "            '{','}','|','~','｢','｣','〃','》','『','』','】','【','〕','〔','〟','〖','〗','〘','〙','〚','〛','〝','〞','｀','〰','──']\n",
    "tagg = []\n",
    "last = []\n",
    "for i in range(len(out)):\n",
    "    word_list = out[i]\n",
    "    for word in word_list: \n",
    "        if word not in cn_stops:\n",
    "            last.append(word)\n",
    "    tagg.append(last)\n",
    "    last = []\n",
    "\n",
    "word_len = []\n",
    "for l in range(len(tagg)):\n",
    "    word_len.append(len(tagg[l]))"
   ]
  },
  {
   "cell_type": "code",
   "execution_count": 57,
   "id": "b5c07c9c",
   "metadata": {},
   "outputs": [],
   "source": [
    "lstl = []\n",
    "lstms = []\n",
    "lstmw = []\n",
    "lstp = []\n",
    "lstn = []\n",
    "lstuc = []\n",
    "for i in range(len(out)):\n",
    "    l = 0\n",
    "    ms = 0\n",
    "    mw = 0\n",
    "    p = 0\n",
    "    n = 0\n",
    "    uc = 0\n",
    "    for j in out[i]:\n",
    "        if j in stl:  #j是被斷詞過後財報裡每一個詞 \n",
    "            l = l+1  #若財報裡的詞存在於stl字典計數加一\n",
    "       \n",
    "        if j in stms:  \n",
    "            ms = ms+1         \n",
    "         \n",
    "        if j in stmw:  \n",
    "            mw = mw+1         \n",
    "        \n",
    "        if j in stp:  \n",
    "            p = p+1         \n",
    "        \n",
    "        if j in stn:  \n",
    "            n = n+1         \n",
    "        \n",
    "        if j in stuc:  \n",
    "            uc = uc+1         \n",
    "        \n",
    "        else:\n",
    "            pass\n",
    "        \n",
    "    lstl.append(l) #把每一筆KAM的stl字詞數量append到list stl裡面最後在一次加回到dataframe\n",
    "    lstms.append(ms)\n",
    "    lstmw.append(mw)\n",
    "    lstp.append(p)\n",
    "    lstn.append(n)\n",
    "    lstuc.append(uc)"
   ]
  },
  {
   "cell_type": "code",
   "execution_count": 58,
   "id": "3a7d8c6a",
   "metadata": {},
   "outputs": [
    {
     "name": "stderr",
     "output_type": "stream",
     "text": [
      "<ipython-input-58-721954fea6d9>:1: SettingWithCopyWarning: \n",
      "A value is trying to be set on a copy of a slice from a DataFrame.\n",
      "Try using .loc[row_indexer,col_indexer] = value instead\n",
      "\n",
      "See the caveats in the documentation: https://pandas.pydata.org/pandas-docs/stable/user_guide/indexing.html#returning-a-view-versus-a-copy\n",
      "  KAM_df['KAM_len'] = word_len #詞數\n",
      "<ipython-input-58-721954fea6d9>:3: SettingWithCopyWarning: \n",
      "A value is trying to be set on a copy of a slice from a DataFrame.\n",
      "Try using .loc[row_indexer,col_indexer] = value instead\n",
      "\n",
      "See the caveats in the documentation: https://pandas.pydata.org/pandas-docs/stable/user_guide/indexing.html#returning-a-view-versus-a-copy\n",
      "  KAM_df[\"Litigious\"] = lstl\n",
      "<ipython-input-58-721954fea6d9>:4: SettingWithCopyWarning: \n",
      "A value is trying to be set on a copy of a slice from a DataFrame.\n",
      "Try using .loc[row_indexer,col_indexer] = value instead\n",
      "\n",
      "See the caveats in the documentation: https://pandas.pydata.org/pandas-docs/stable/user_guide/indexing.html#returning-a-view-versus-a-copy\n",
      "  KAM_df[\"ModalStrong\"] = lstms\n",
      "<ipython-input-58-721954fea6d9>:5: SettingWithCopyWarning: \n",
      "A value is trying to be set on a copy of a slice from a DataFrame.\n",
      "Try using .loc[row_indexer,col_indexer] = value instead\n",
      "\n",
      "See the caveats in the documentation: https://pandas.pydata.org/pandas-docs/stable/user_guide/indexing.html#returning-a-view-versus-a-copy\n",
      "  KAM_df[\"ModalWeak\"] = lstmw\n",
      "<ipython-input-58-721954fea6d9>:6: SettingWithCopyWarning: \n",
      "A value is trying to be set on a copy of a slice from a DataFrame.\n",
      "Try using .loc[row_indexer,col_indexer] = value instead\n",
      "\n",
      "See the caveats in the documentation: https://pandas.pydata.org/pandas-docs/stable/user_guide/indexing.html#returning-a-view-versus-a-copy\n",
      "  KAM_df[\"Negative\"] = lstn\n",
      "<ipython-input-58-721954fea6d9>:7: SettingWithCopyWarning: \n",
      "A value is trying to be set on a copy of a slice from a DataFrame.\n",
      "Try using .loc[row_indexer,col_indexer] = value instead\n",
      "\n",
      "See the caveats in the documentation: https://pandas.pydata.org/pandas-docs/stable/user_guide/indexing.html#returning-a-view-versus-a-copy\n",
      "  KAM_df[\"Positive\"] = lstp\n",
      "<ipython-input-58-721954fea6d9>:8: SettingWithCopyWarning: \n",
      "A value is trying to be set on a copy of a slice from a DataFrame.\n",
      "Try using .loc[row_indexer,col_indexer] = value instead\n",
      "\n",
      "See the caveats in the documentation: https://pandas.pydata.org/pandas-docs/stable/user_guide/indexing.html#returning-a-view-versus-a-copy\n",
      "  KAM_df[\"Uncertainty\"] = lstuc\n"
     ]
    }
   ],
   "source": [
    "KAM_df['KAM_len'] = word_len #詞數\n",
    "\n",
    "KAM_df[\"Litigious\"] = lstl\n",
    "KAM_df[\"ModalStrong\"] = lstms\n",
    "KAM_df[\"ModalWeak\"] = lstmw\n",
    "KAM_df[\"Negative\"] = lstn\n",
    "KAM_df[\"Positive\"] = lstp\n",
    "KAM_df[\"Uncertainty\"] = lstuc"
   ]
  },
  {
   "cell_type": "code",
   "execution_count": 59,
   "id": "04c4b77e",
   "metadata": {},
   "outputs": [
    {
     "data": {
      "text/plain": [
       "Index(['公司代碼', '公司名稱', '事務所碼', '事務所名稱', '是否為四大事務所', '四大事務所編碼', '會計師一', '會計師二',\n",
       "       'KAM', 'KAM_len', 'Litigious', 'ModalStrong', 'ModalWeak', 'Negative',\n",
       "       'Positive', 'Uncertainty'],\n",
       "      dtype='object')"
      ]
     },
     "execution_count": 59,
     "metadata": {},
     "output_type": "execute_result"
    }
   ],
   "source": [
    "KAM_df.columns"
   ]
  },
  {
   "cell_type": "code",
   "execution_count": 60,
   "id": "76c26f76",
   "metadata": {},
   "outputs": [],
   "source": [
    "#round(lstl[0]/word_len[0],4)\n",
    "inde = ['Litigious','ModalStrong', 'ModalWeak', 'Negative', 'Positive', 'Uncertainty']\n",
    "lstlp = []\n",
    "lstmsp = []\n",
    "lstmwp = []\n",
    "lstpp = []\n",
    "lstnp = []\n",
    "lstucp = []\n",
    "for i in range(len(lstl)):\n",
    "    lstlp.append(round(lstl[i]/word_len[i],4))\n",
    "    lstmsp.append(round(lstms[i]/word_len[i],4))\n",
    "    lstmwp.append(round(lstmw[i]/word_len[i],4))\n",
    "    lstpp.append(round(lstp[i]/word_len[i],4))\n",
    "    lstnp.append(round(lstn[i]/word_len[i],4))\n",
    "    lstucp.append(round(lstuc[i]/word_len[i],4))"
   ]
  },
  {
   "cell_type": "code",
   "execution_count": 61,
   "id": "57d70947",
   "metadata": {},
   "outputs": [
    {
     "name": "stderr",
     "output_type": "stream",
     "text": [
      "<ipython-input-61-87125ff8af5e>:1: SettingWithCopyWarning: \n",
      "A value is trying to be set on a copy of a slice from a DataFrame.\n",
      "Try using .loc[row_indexer,col_indexer] = value instead\n",
      "\n",
      "See the caveats in the documentation: https://pandas.pydata.org/pandas-docs/stable/user_guide/indexing.html#returning-a-view-versus-a-copy\n",
      "  KAM_df[\"Litigious%\"] = lstlp\n",
      "<ipython-input-61-87125ff8af5e>:2: SettingWithCopyWarning: \n",
      "A value is trying to be set on a copy of a slice from a DataFrame.\n",
      "Try using .loc[row_indexer,col_indexer] = value instead\n",
      "\n",
      "See the caveats in the documentation: https://pandas.pydata.org/pandas-docs/stable/user_guide/indexing.html#returning-a-view-versus-a-copy\n",
      "  KAM_df[\"ModalStrong%\"] = lstmsp\n",
      "<ipython-input-61-87125ff8af5e>:3: SettingWithCopyWarning: \n",
      "A value is trying to be set on a copy of a slice from a DataFrame.\n",
      "Try using .loc[row_indexer,col_indexer] = value instead\n",
      "\n",
      "See the caveats in the documentation: https://pandas.pydata.org/pandas-docs/stable/user_guide/indexing.html#returning-a-view-versus-a-copy\n",
      "  KAM_df[\"ModalWeak%\"] = lstmwp\n",
      "<ipython-input-61-87125ff8af5e>:4: SettingWithCopyWarning: \n",
      "A value is trying to be set on a copy of a slice from a DataFrame.\n",
      "Try using .loc[row_indexer,col_indexer] = value instead\n",
      "\n",
      "See the caveats in the documentation: https://pandas.pydata.org/pandas-docs/stable/user_guide/indexing.html#returning-a-view-versus-a-copy\n",
      "  KAM_df[\"Negative%\"] = lstnp\n",
      "<ipython-input-61-87125ff8af5e>:5: SettingWithCopyWarning: \n",
      "A value is trying to be set on a copy of a slice from a DataFrame.\n",
      "Try using .loc[row_indexer,col_indexer] = value instead\n",
      "\n",
      "See the caveats in the documentation: https://pandas.pydata.org/pandas-docs/stable/user_guide/indexing.html#returning-a-view-versus-a-copy\n",
      "  KAM_df[\"Positive%\"] = lstpp\n",
      "<ipython-input-61-87125ff8af5e>:6: SettingWithCopyWarning: \n",
      "A value is trying to be set on a copy of a slice from a DataFrame.\n",
      "Try using .loc[row_indexer,col_indexer] = value instead\n",
      "\n",
      "See the caveats in the documentation: https://pandas.pydata.org/pandas-docs/stable/user_guide/indexing.html#returning-a-view-versus-a-copy\n",
      "  KAM_df[\"Uncertainty%\"] = lstucp\n"
     ]
    }
   ],
   "source": [
    "KAM_df[\"Litigious%\"] = lstlp\n",
    "KAM_df[\"ModalStrong%\"] = lstmsp\n",
    "KAM_df[\"ModalWeak%\"] = lstmwp\n",
    "KAM_df[\"Negative%\"] = lstnp\n",
    "KAM_df[\"Positive%\"] = lstpp\n",
    "KAM_df[\"Uncertainty%\"] = lstucp"
   ]
  },
  {
   "cell_type": "markdown",
   "id": "e2cb0e99",
   "metadata": {},
   "source": [
    "####  將第四個檔案 KAM項目 先做處理 取出公司的項目數"
   ]
  },
  {
   "cell_type": "markdown",
   "id": "ce034ea8",
   "metadata": {},
   "source": [
    "KAMi_path = './2020KAMItem_0728.xlsx'\n",
    "KAMi = pd.read_excel(KAMi_path)\n",
    "KAMi = pd.DataFrame(KAMi)"
   ]
  },
  {
   "cell_type": "code",
   "execution_count": 62,
   "id": "0831b4c5",
   "metadata": {},
   "outputs": [],
   "source": [
    "KAMi_path = './2021KAMItem_0917.xlsx'\n",
    "KAMi = pd.read_excel(KAMi_path)\n",
    "KAMi = pd.DataFrame(KAMi)"
   ]
  },
  {
   "cell_type": "code",
   "execution_count": 63,
   "id": "6d483197",
   "metadata": {},
   "outputs": [
    {
     "data": {
      "text/plain": [
       "Index(['Unnamed: 0', '公司代碼', '公司名稱', '年', '次數', 'KAM項次', '證交所產業碼', 'KAM名稱',\n",
       "       'KAM大類', 'KAM細類', 'KAM細類名稱', 'KAM分類(英國)', '有無提供索引', '有無提供金額',\n",
       "       '財務報導層級/科目報導層級', '字數', '金額備註', '科目1', '金額1', '佔比類型1', '佔比1', '科目2',\n",
       "       '金額2', '佔比類型2'],\n",
       "      dtype='object')"
      ]
     },
     "execution_count": 63,
     "metadata": {},
     "output_type": "execute_result"
    }
   ],
   "source": [
    "KAMi.columns"
   ]
  },
  {
   "cell_type": "code",
   "execution_count": 66,
   "id": "fb1f9ab1",
   "metadata": {},
   "outputs": [],
   "source": [
    "sp = KAMi[['公司代碼', '年', 'KAM項次']]\n",
    "\n",
    "inde = []\n",
    "itemc = []\n",
    "\n",
    "for (index, colname) in enumerate(sp):\n",
    "    print(index, sp[colname].values)\n",
    "    if index == 0:\n",
    "        inde.append(list(sp[colname].values)) #inde[0]\n",
    "    if index == 2:\n",
    "        itemc.append(list(sp[colname].values)) #itemc[0]\n",
    "\n",
    "inre = []\n",
    "itre = []\n",
    "for i in range(len(itemc[0])):\n",
    "    if i<=len(itemc[0])-2 and inde[0][i] == inde[0][i+1]:\n",
    "        #print(inde[0][i])\n",
    "        cod = inde[0][i]\n",
    "        it = itemc[0][i+1]\n",
    "    else:\n",
    "        cod = inde[0][i]\n",
    "        it = itemc[0][i]\n",
    "        inre.append(cod)\n",
    "        itre.append(it)"
   ]
  },
  {
   "cell_type": "code",
   "execution_count": 67,
   "id": "3ab35f11",
   "metadata": {},
   "outputs": [
    {
     "data": {
      "text/html": [
       "<div>\n",
       "<style scoped>\n",
       "    .dataframe tbody tr th:only-of-type {\n",
       "        vertical-align: middle;\n",
       "    }\n",
       "\n",
       "    .dataframe tbody tr th {\n",
       "        vertical-align: top;\n",
       "    }\n",
       "\n",
       "    .dataframe thead th {\n",
       "        text-align: right;\n",
       "    }\n",
       "</style>\n",
       "<table border=\"1\" class=\"dataframe\">\n",
       "  <thead>\n",
       "    <tr style=\"text-align: right;\">\n",
       "      <th></th>\n",
       "      <th>公司代碼</th>\n",
       "      <th>KAM項目數</th>\n",
       "    </tr>\n",
       "  </thead>\n",
       "  <tbody>\n",
       "    <tr>\n",
       "      <th>0</th>\n",
       "      <td>000020</td>\n",
       "      <td>1</td>\n",
       "    </tr>\n",
       "    <tr>\n",
       "      <th>1</th>\n",
       "      <td>000022</td>\n",
       "      <td>1</td>\n",
       "    </tr>\n",
       "    <tr>\n",
       "      <th>2</th>\n",
       "      <td>000024</td>\n",
       "      <td>1</td>\n",
       "    </tr>\n",
       "    <tr>\n",
       "      <th>3</th>\n",
       "      <td>000025</td>\n",
       "      <td>1</td>\n",
       "    </tr>\n",
       "    <tr>\n",
       "      <th>4</th>\n",
       "      <td>000026</td>\n",
       "      <td>1</td>\n",
       "    </tr>\n",
       "    <tr>\n",
       "      <th>...</th>\n",
       "      <td>...</td>\n",
       "      <td>...</td>\n",
       "    </tr>\n",
       "    <tr>\n",
       "      <th>2149</th>\n",
       "      <td>A00025</td>\n",
       "      <td>1</td>\n",
       "    </tr>\n",
       "    <tr>\n",
       "      <th>2150</th>\n",
       "      <td>A00037</td>\n",
       "      <td>1</td>\n",
       "    </tr>\n",
       "    <tr>\n",
       "      <th>2151</th>\n",
       "      <td>A00041</td>\n",
       "      <td>1</td>\n",
       "    </tr>\n",
       "    <tr>\n",
       "      <th>2152</th>\n",
       "      <td>A00047</td>\n",
       "      <td>2</td>\n",
       "    </tr>\n",
       "    <tr>\n",
       "      <th>2153</th>\n",
       "      <td>A00048</td>\n",
       "      <td>1</td>\n",
       "    </tr>\n",
       "  </tbody>\n",
       "</table>\n",
       "<p>2154 rows × 2 columns</p>\n",
       "</div>"
      ],
      "text/plain": [
       "        公司代碼  KAM項目數\n",
       "0     000020       1\n",
       "1     000022       1\n",
       "2     000024       1\n",
       "3     000025       1\n",
       "4     000026       1\n",
       "...      ...     ...\n",
       "2149  A00025       1\n",
       "2150  A00037       1\n",
       "2151  A00041       1\n",
       "2152  A00047       2\n",
       "2153  A00048       1\n",
       "\n",
       "[2154 rows x 2 columns]"
      ]
     },
     "execution_count": 67,
     "metadata": {},
     "output_type": "execute_result"
    }
   ],
   "source": [
    "itre_df = pd.DataFrame()\n",
    "itre_df['公司代碼'] = inre\n",
    "itre_df['KAM項目數'] = itre\n",
    "itre_df"
   ]
  },
  {
   "cell_type": "code",
   "execution_count": 68,
   "id": "4d2ba286",
   "metadata": {},
   "outputs": [],
   "source": [
    "output_df = pd.merge(KAM_df,itre_df, on='公司代碼', how='inner')"
   ]
  },
  {
   "cell_type": "code",
   "execution_count": 69,
   "id": "38db7f82",
   "metadata": {},
   "outputs": [],
   "source": [
    "avglen = round(output_df['KAM_len']/output_df['KAM項目數'],2)\n",
    "avglen = avglen.tolist()\n",
    "output_df['KAM平均詞數'] = avglen"
   ]
  },
  {
   "cell_type": "code",
   "execution_count": 70,
   "id": "d2c42637",
   "metadata": {},
   "outputs": [
    {
     "data": {
      "text/plain": [
       "Index(['公司代碼', '公司名稱', '事務所碼', '事務所名稱', '是否為四大事務所', '四大事務所編碼', '會計師一', '會計師二',\n",
       "       'KAM', 'KAM_len', 'Litigious', 'ModalStrong', 'ModalWeak', 'Negative',\n",
       "       'Positive', 'Uncertainty', 'Litigious%', 'ModalStrong%', 'ModalWeak%',\n",
       "       'Negative%', 'Positive%', 'Uncertainty%', 'KAM項目數', 'KAM平均詞數'],\n",
       "      dtype='object')"
      ]
     },
     "execution_count": 70,
     "metadata": {},
     "output_type": "execute_result"
    }
   ],
   "source": [
    "output_df.columns"
   ]
  },
  {
   "cell_type": "code",
   "execution_count": 71,
   "id": "0efefce2",
   "metadata": {},
   "outputs": [],
   "source": [
    "#print(Mas[Mas[\"公司名稱\"].isin([\"臺銀證券\"])])\n",
    "#print(Mas[Mas[\"KAM項次\"] > 1])\n",
    "#print(DF[DF[\"公司名稱\"].isin([\"臺銀證券\"])])"
   ]
  },
  {
   "cell_type": "code",
   "execution_count": 72,
   "id": "61e6e020",
   "metadata": {},
   "outputs": [
    {
     "name": "stdout",
     "output_type": "stream",
     "text": [
      "Account_Ori: 2042\n",
      "IndustryCode_Ori: 2171\n",
      "KAM_Ori: 2144\n",
      "DF: 2025\n",
      "KAM_df: 2025\n",
      "output_df: 1997\n"
     ]
    }
   ],
   "source": [
    "print('Account_Ori:',len(Account))\n",
    "print('IndustryCode_Ori:',len(Industry))\n",
    "print('KAM_Ori:',len(KAM))\n",
    "print('DF:',len(DF))\n",
    "print('KAM_df:',len(KAM_df))\n",
    "print('output_df:',len(output_df))"
   ]
  },
  {
   "cell_type": "code",
   "execution_count": 73,
   "id": "79893385",
   "metadata": {},
   "outputs": [],
   "source": [
    "output_df.to_excel(\"2021output_DF.xlsx\") "
   ]
  },
  {
   "cell_type": "code",
   "execution_count": null,
   "id": "9096478d",
   "metadata": {},
   "outputs": [],
   "source": []
  }
 ],
 "metadata": {
  "kernelspec": {
   "display_name": "Python 3",
   "language": "python",
   "name": "python3"
  },
  "language_info": {
   "codemirror_mode": {
    "name": "ipython",
    "version": 3
   },
   "file_extension": ".py",
   "mimetype": "text/x-python",
   "name": "python",
   "nbconvert_exporter": "python",
   "pygments_lexer": "ipython3",
   "version": "3.8.8"
  }
 },
 "nbformat": 4,
 "nbformat_minor": 5
}
